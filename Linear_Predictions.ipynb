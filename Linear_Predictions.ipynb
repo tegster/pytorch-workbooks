{
  "nbformat": 4,
  "nbformat_minor": 0,
  "metadata": {
    "colab": {
      "name": "Linear_Predictions.ipynb",
      "provenance": [],
      "authorship_tag": "ABX9TyNAacX4JDWW/aZSfMFt8s1u",
      "include_colab_link": true
    },
    "kernelspec": {
      "name": "python3",
      "display_name": "Python 3"
    },
    "language_info": {
      "name": "python"
    }
  },
  "cells": [
    {
      "cell_type": "markdown",
      "metadata": {
        "id": "view-in-github",
        "colab_type": "text"
      },
      "source": [
        "<a href=\"https://colab.research.google.com/github/tegster/pytorch-workbooks/blob/main/Linear_Predictions.ipynb\" target=\"_parent\"><img src=\"https://colab.research.google.com/assets/colab-badge.svg\" alt=\"Open In Colab\"/></a>"
      ]
    },
    {
      "cell_type": "code",
      "metadata": {
        "id": "99EfNtZDZmI8",
        "colab": {
          "base_uri": "https://localhost:8080/"
        },
        "outputId": "5def5449-5707-4309-bd60-a409c17a5e11"
      },
      "source": [
        "!pip3 install torch"
      ],
      "execution_count": 1,
      "outputs": [
        {
          "output_type": "stream",
          "name": "stdout",
          "text": [
            "Requirement already satisfied: torch in /usr/local/lib/python3.7/dist-packages (1.9.0+cu102)\n",
            "Requirement already satisfied: typing-extensions in /usr/local/lib/python3.7/dist-packages (from torch) (3.7.4.3)\n"
          ]
        }
      ]
    },
    {
      "cell_type": "code",
      "metadata": {
        "id": "3975L0n8evdU"
      },
      "source": [
        "# Code to Building a Linear Regression Model\n",
        "# Create a Dataset that will follow a linear pattern and declare a line with random parameters\n",
        "# SGD will minimize the error function\n",
        "\n",
        "import torch"
      ],
      "execution_count": 2,
      "outputs": []
    },
    {
      "cell_type": "code",
      "metadata": {
        "id": "sgafBkBMZ4iy"
      },
      "source": [
        "# W = Slope, also will be the weight parameter. Which we will optimize using SGD in the future\n",
        "# B = y-intercept\n",
        "\n",
        "w = torch.tensor(3.0, requires_grad=True) # weight paramerter\n",
        "b = torch.tensor(1.0, requires_grad=True) # Y-intercept to move up and down\n",
        "\n",
        "# y = w*x + b  # A simple,  y = mx + b linear equation to get y value, given an x"
      ],
      "execution_count": 3,
      "outputs": []
    },
    {
      "cell_type": "code",
      "metadata": {
        "id": "p6lS3t5dheY-"
      },
      "source": [
        "# Function below will return the Y value using W and B tensor above, proving an x value\n",
        "\n",
        "def forward(x):\n",
        "  y = w*x + b\n",
        "  return y"
      ],
      "execution_count": 4,
      "outputs": []
    },
    {
      "cell_type": "code",
      "metadata": {
        "colab": {
          "base_uri": "https://localhost:8080/"
        },
        "id": "qVHGa5ukhwCx",
        "outputId": "4a1dd8f0-5189-4b70-a8d0-5f51e4007a43"
      },
      "source": [
        "g = torch.tensor(2)\n",
        "forward(g)"
      ],
      "execution_count": 5,
      "outputs": [
        {
          "output_type": "execute_result",
          "data": {
            "text/plain": [
              "tensor(7., grad_fn=<AddBackward0>)"
            ]
          },
          "metadata": {},
          "execution_count": 5
        }
      ]
    },
    {
      "cell_type": "code",
      "metadata": {
        "colab": {
          "base_uri": "https://localhost:8080/"
        },
        "id": "loWH1m9riD77",
        "outputId": "a6beb88d-4db0-47d1-8e48-4620151b2912"
      },
      "source": [
        "x = torch.tensor([[4],[7]])\n",
        "forward(x)\n",
        "\n",
        "# answer:\n",
        "# tensor([[13.],\n",
        "#         [22.]], grad_fn=<AddBackward0>)"
      ],
      "execution_count": 6,
      "outputs": [
        {
          "output_type": "execute_result",
          "data": {
            "text/plain": [
              "tensor([[13.],\n",
              "        [22.]], grad_fn=<AddBackward0>)"
            ]
          },
          "metadata": {},
          "execution_count": 6
        }
      ]
    }
  ]
}