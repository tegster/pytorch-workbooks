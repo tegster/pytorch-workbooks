{
  "nbformat": 4,
  "nbformat_minor": 0,
  "metadata": {
    "colab": {
      "name": "Linear_Regression_Model.ipynb",
      "provenance": [],
      "authorship_tag": "ABX9TyPeisOX3kVXZQ1tsZT0lmMA"
    },
    "kernelspec": {
      "name": "python3",
      "display_name": "Python 3"
    },
    "language_info": {
      "name": "python"
    }
  },
  "cells": [
    {
      "cell_type": "code",
      "metadata": {
        "colab": {
          "base_uri": "https://localhost:8080/"
        },
        "id": "3n3BqJExXQQK",
        "outputId": "82fb06dd-3ff4-4ca5-dd7d-db6854039c31"
      },
      "source": [
        "# Linear regression - attempts to model the relationship between two variables by fitting a linear equation to observed data. \n",
        "# A linear regression line has an equation of the form Y = a + bX, also known as Y = mX + B, \n",
        "# to predict the value of a variable based on the value of another variable.\n",
        "\n",
        "!pip3 install torch"
      ],
      "execution_count": 1,
      "outputs": [
        {
          "output_type": "stream",
          "name": "stdout",
          "text": [
            "Requirement already satisfied: torch in /usr/local/lib/python3.7/dist-packages (1.9.0+cu102)\n",
            "Requirement already satisfied: typing-extensions in /usr/local/lib/python3.7/dist-packages (from torch) (3.7.4.3)\n"
          ]
        }
      ]
    },
    {
      "cell_type": "code",
      "metadata": {
        "id": "l9P4lSL_Xg5I"
      },
      "source": [
        "import torch\n",
        "from torch.nn import Linear\n",
        "import torch.nn as nn\n",
        "import matplotlib.pyplot as plt\n",
        "import numpy as np"
      ],
      "execution_count": 2,
      "outputs": []
    },
    {
      "cell_type": "code",
      "metadata": {
        "colab": {
          "base_uri": "https://localhost:8080/",
          "height": 296
        },
        "id": "nmRaZRzZ4Aj4",
        "outputId": "b6d2e708-7c69-4f8d-a881-2ea032a6d9a8"
      },
      "source": [
        "# \n",
        "# Create a Dataset of 100 rows and 1 column for our Linear Regression to Use\n",
        "#\n",
        "\n",
        "X = torch.randn(100, 1) * 10\n",
        "Y = X + 3*torch.randn(100,1)      # Y is a function of X, shift it up and down to increase noise\n",
        "plt.plot( X, Y, 'o')\n",
        "plt.ylabel('Y')\n",
        "plt.xlabel('X')"
      ],
      "execution_count": 3,
      "outputs": [
        {
          "output_type": "execute_result",
          "data": {
            "text/plain": [
              "Text(0.5, 0, 'X')"
            ]
          },
          "metadata": {},
          "execution_count": 3
        },
        {
          "output_type": "display_data",
          "data": {
            "image/png": "[encoded data removed]",
            "text/plain": [
              "<Figure size 432x288 with 1 Axes>"
            ]
          },
          "metadata": {
            "needs_background": "light"
          }
        }
      ]
    },
    {
      "cell_type": "code",
      "metadata": {
        "id": "leaPKcR8bFVy"
      },
      "source": [
        "#\n",
        "# we start with random values for weight and bias paramerters.\n",
        "# then we train our model through a gradient descent algorithm\n",
        "# to obtain optimal parameters for the weight and to fit our data.\n",
        "#"
      ],
      "execution_count": 4,
      "outputs": []
    },
    {
      "cell_type": "code",
      "metadata": {
        "id": "nyCxZZ0Cq78K"
      },
      "source": [
        "# \n",
        "# Linear Regression class below is a sub class we created\n",
        "# from nn.Module - inheriting all nueral network modules from this parent class\n",
        "# nn.Module - Base class for all neural network modules - https://pytorch.org/docs/stable/generated/torch.nn.Module.html\n",
        "# w/ inheritance we call super().__init__():  \n",
        "# super() gives you access to methods in a superclass from the subclass that inherits from it.\n",
        "#\n",
        "\n",
        "class LinearRegression(nn.Module):\n",
        "  def __init__(self, input_size, output_size ):\n",
        "    super().__init__()\n",
        "    self.linear = nn.Linear(input_size, output_size)\n",
        "\n",
        "#\n",
        "# Forward function returns the Y Value for given X, using our nn.linear computation provided by Pytorch\n",
        "# Applies a linear transformation to the incoming data using the Weight and Bias defined by the model\n",
        "# \n",
        "  def forward(self, x):\n",
        "    Y_prod = self.linear(x)\n",
        "    return Y_prod"
      ],
      "execution_count": 5,
      "outputs": []
    },
    {
      "cell_type": "code",
      "metadata": {
        "id": "bxzvfthzzK3n"
      },
      "source": [
        "torch.manual_seed(1)\n",
        "\n",
        "# Create a Model Instance of the Linear Regression Class\n",
        "model = LinearRegression(1,1)\n"
      ],
      "execution_count": 6,
      "outputs": []
    },
    {
      "cell_type": "code",
      "metadata": {
        "id": "JCK570rS0rEQ"
      },
      "source": [
        "[w, b] = model.parameters() # Parameters are returned in a 2D Tensor with 1 Row and 1 Column\n",
        "def get_params():\n",
        "  return (w[0][0].item(), b[0].item())"
      ],
      "execution_count": 7,
      "outputs": []
    },
    {
      "cell_type": "code",
      "metadata": {
        "id": "ckRnbYKKApQH"
      },
      "source": [
        "#\n",
        "# The plot_fit function will print out the graph of all the X and Y datapoints \n",
        "# It will grab the weight and bias parameters from the model and multiple times -30 and 30, X points\n",
        "# which will give us the Line of best fit \n",
        "\n",
        "def plot_fit(title):\n",
        "  plt.title = title\n",
        "  w1, b1 = get_params() # get the weight and bias values from the model\n",
        "  x1 = np.array([-30,30])\n",
        "  print(x1) # array of 2 elements -30 and 30\n",
        "  y1 = w1 * x1 + b1\n",
        "  plt.plot(x1, y1, 'r')\n",
        "  plt.scatter(X, Y)\n",
        "  plt.show()"
      ],
      "execution_count": 8,
      "outputs": []
    },
    {
      "cell_type": "code",
      "metadata": {
        "colab": {
          "base_uri": "https://localhost:8080/",
          "height": 282
        },
        "id": "DtHSyvnR_CGR",
        "outputId": "b1d479e2-e0c6-4bfd-f7af-7a9065354727"
      },
      "source": [
        "plot_fit('Initial Model')"
      ],
      "execution_count": 9,
      "outputs": [
        {
          "output_type": "stream",
          "name": "stdout",
          "text": [
            "[-30  30]\n"
          ]
        },
        {
          "output_type": "display_data",
          "data": {
            "image/png": "[encoded data removed]",
            "text/plain": [
              "<Figure size 432x288 with 1 Axes>"
            ]
          },
          "metadata": {
            "needs_background": "light"
          }
        }
      ]
    },
    {
      "cell_type": "code",
      "metadata": {
        "id": "ngjIJNRhHF_R",
        "colab": {
          "base_uri": "https://localhost:8080/"
        },
        "outputId": "958972c3-a79b-4bb9-d97c-1947beb7d957"
      },
      "source": [
        "# \n",
        "# Implement Optimization algirith (MSE LOSS) and train model\n",
        "#\n",
        "# Loss Function\n",
        "#\n",
        "#\n",
        "\n",
        "criterion = nn.MSELoss()\n",
        "\n",
        "#will use SGD to update the weights and bias\n",
        "optimizer = torch.optim.SGD(model.parameters(), lr = 0.01)\n",
        "\n",
        "# 1 epoch is a single pass through the entire Dataset, we calculate the error function and backpropogate \n",
        "# the gradient of the error function to update the weights\n",
        "epochs = 100\n",
        "losses = []\n",
        "\n",
        "# Most Models we TRAIN will follow this similar process\n",
        "#\n",
        "# 1. Make predictions using our Model\n",
        "# 2. Compare the predictions made by the model to the actual outputs\n",
        "# 3. Based on that\n",
        "# 4. Determine the Loss Mean Squared\n",
        "# 5. Then use the SGD to update the weights of our model in the direction of least error\n",
        "# 6. Thereby minimizing the error function of our model as we attempt to minimize the loss iteratively\n",
        "#\n",
        "\n",
        "# we want to minimize the error in each epoch pass\n",
        "for i in range(epochs):\n",
        "  y_pred = model.forward(X) # 1. Make predictions using our Model\n",
        "  loss = criterion(y_pred, Y) # 2. Compare the predictions made by the model to the actual outputs, to determine MSE, Mean squared error\n",
        "  print(\"epoch: \", i, \"loss: \", loss.item())\n",
        "  losses.append(loss)\n",
        "  optimizer.zero_grad() # set the gradient to zero, since gradients accumulate following loss.backward() call from previous epoch\n",
        "  loss.backward()     # take the gradient of the loss function, we use loss.backward() to computer gradient\n",
        "  optimizer.step()    # we update our model parameters by optimizer.step(), can be called once gradients are computed\n"
      ],
      "execution_count": 10,
      "outputs": [
        {
          "output_type": "stream",
          "name": "stdout",
          "text": [
            "epoch:  0 loss:  32.67218780517578\n",
            "epoch:  1 loss:  26.17715835571289\n",
            "epoch:  2 loss:  21.490158081054688\n",
            "epoch:  3 loss:  18.10701560974121\n",
            "epoch:  4 loss:  15.664220809936523\n",
            "epoch:  5 loss:  13.899615287780762\n",
            "epoch:  6 loss:  12.624176025390625\n",
            "epoch:  7 loss:  11.701576232910156\n",
            "epoch:  8 loss:  11.03352165222168\n",
            "epoch:  9 loss:  10.549120903015137\n",
            "epoch:  10 loss:  10.197261810302734\n",
            "epoch:  11 loss:  9.94107437133789\n",
            "epoch:  12 loss:  9.753973007202148\n",
            "epoch:  13 loss:  9.616781234741211\n",
            "epoch:  14 loss:  9.515667915344238\n",
            "epoch:  15 loss:  9.440654754638672\n",
            "epoch:  16 loss:  9.38454818725586\n",
            "epoch:  17 loss:  9.342151641845703\n",
            "epoch:  18 loss:  9.309720993041992\n",
            "epoch:  19 loss:  9.284546852111816\n",
            "epoch:  20 loss:  9.26467514038086\n",
            "epoch:  21 loss:  9.248699188232422\n",
            "epoch:  22 loss:  9.235591888427734\n",
            "epoch:  23 loss:  9.22461986541748\n",
            "epoch:  24 loss:  9.21524429321289\n",
            "epoch:  25 loss:  9.207077980041504\n",
            "epoch:  26 loss:  9.19984245300293\n",
            "epoch:  27 loss:  9.193327903747559\n",
            "epoch:  28 loss:  9.187385559082031\n",
            "epoch:  29 loss:  9.181903839111328\n",
            "epoch:  30 loss:  9.176803588867188\n",
            "epoch:  31 loss:  9.17202091217041\n",
            "epoch:  32 loss:  9.167512893676758\n",
            "epoch:  33 loss:  9.163243293762207\n",
            "epoch:  34 loss:  9.159186363220215\n",
            "epoch:  35 loss:  9.155322074890137\n",
            "epoch:  36 loss:  9.151632308959961\n",
            "epoch:  37 loss:  9.14810562133789\n",
            "epoch:  38 loss:  9.144728660583496\n",
            "epoch:  39 loss:  9.141494750976562\n",
            "epoch:  40 loss:  9.13839340209961\n",
            "epoch:  41 loss:  9.135419845581055\n",
            "epoch:  42 loss:  9.13256549835205\n",
            "epoch:  43 loss:  9.129826545715332\n",
            "epoch:  44 loss:  9.127197265625\n",
            "epoch:  45 loss:  9.124673843383789\n",
            "epoch:  46 loss:  9.122248649597168\n",
            "epoch:  47 loss:  9.11992073059082\n",
            "epoch:  48 loss:  9.117684364318848\n",
            "epoch:  49 loss:  9.115537643432617\n",
            "epoch:  50 loss:  9.113475799560547\n",
            "epoch:  51 loss:  9.111493110656738\n",
            "epoch:  52 loss:  9.109591484069824\n",
            "epoch:  53 loss:  9.107765197753906\n",
            "epoch:  54 loss:  9.10600757598877\n",
            "epoch:  55 loss:  9.10432243347168\n",
            "epoch:  56 loss:  9.102701187133789\n",
            "epoch:  57 loss:  9.101146697998047\n",
            "epoch:  58 loss:  9.099651336669922\n",
            "epoch:  59 loss:  9.098217010498047\n",
            "epoch:  60 loss:  9.096837997436523\n",
            "epoch:  61 loss:  9.095512390136719\n",
            "epoch:  62 loss:  9.09424114227295\n",
            "epoch:  63 loss:  9.093017578125\n",
            "epoch:  64 loss:  9.091842651367188\n",
            "epoch:  65 loss:  9.090714454650879\n",
            "epoch:  66 loss:  9.089632034301758\n",
            "epoch:  67 loss:  9.088592529296875\n",
            "epoch:  68 loss:  9.087592124938965\n",
            "epoch:  69 loss:  9.086630821228027\n",
            "epoch:  70 loss:  9.085709571838379\n",
            "epoch:  71 loss:  9.084822654724121\n",
            "epoch:  72 loss:  9.083971977233887\n",
            "epoch:  73 loss:  9.083154678344727\n",
            "epoch:  74 loss:  9.082369804382324\n",
            "epoch:  75 loss:  9.081613540649414\n",
            "epoch:  76 loss:  9.080889701843262\n",
            "epoch:  77 loss:  9.080193519592285\n",
            "epoch:  78 loss:  9.079524993896484\n",
            "epoch:  79 loss:  9.078883171081543\n",
            "epoch:  80 loss:  9.078266143798828\n",
            "epoch:  81 loss:  9.077672004699707\n",
            "epoch:  82 loss:  9.077103614807129\n",
            "epoch:  83 loss:  9.076556205749512\n",
            "epoch:  84 loss:  9.076030731201172\n",
            "epoch:  85 loss:  9.07552719116211\n",
            "epoch:  86 loss:  9.075041770935059\n",
            "epoch:  87 loss:  9.074576377868652\n",
            "epoch:  88 loss:  9.074129104614258\n",
            "epoch:  89 loss:  9.073698997497559\n",
            "epoch:  90 loss:  9.073287010192871\n",
            "epoch:  91 loss:  9.072888374328613\n",
            "epoch:  92 loss:  9.072508811950684\n",
            "epoch:  93 loss:  9.072144508361816\n",
            "epoch:  94 loss:  9.071792602539062\n",
            "epoch:  95 loss:  9.071455001831055\n",
            "epoch:  96 loss:  9.071130752563477\n",
            "epoch:  97 loss:  9.070819854736328\n",
            "epoch:  98 loss:  9.070520401000977\n",
            "epoch:  99 loss:  9.070232391357422\n"
          ]
        }
      ]
    },
    {
      "cell_type": "code",
      "metadata": {
        "colab": {
          "base_uri": "https://localhost:8080/",
          "height": 296
        },
        "id": "08dvsD-oQ0PL",
        "outputId": "79104a77-722d-48b2-bd45-01261b5dbe0f"
      },
      "source": [
        "plt.plot(range(epochs), losses)\n",
        "plt.ylabel('Loss')\n",
        "plt.xlabel('Epoch')"
      ],
      "execution_count": 11,
      "outputs": [
        {
          "output_type": "execute_result",
          "data": {
            "text/plain": [
              "Text(0.5, 0, 'Epoch')"
            ]
          },
          "metadata": {},
          "execution_count": 11
        },
        {
          "output_type": "display_data",
          "data": {
            "image/png": "[encoded data removed]",
            "text/plain": [
              "<Figure size 432x288 with 1 Axes>"
            ]
          },
          "metadata": {
            "needs_background": "light"
          }
        }
      ]
    },
    {
      "cell_type": "code",
      "metadata": {
        "colab": {
          "base_uri": "https://localhost:8080/",
          "height": 317
        },
        "id": "35l9wfSST0tL",
        "outputId": "65c15863-6a53-4bbb-d83a-b307a39dd873"
      },
      "source": [
        "plot_fit('Trained Model')\n",
        "\n",
        "#final weights and bias\n",
        "final_weight, final_bias = get_params()\n",
        "print(final_weight)\n",
        "print(final_bias)"
      ],
      "execution_count": 12,
      "outputs": [
        {
          "output_type": "stream",
          "name": "stdout",
          "text": [
            "[-30  30]\n"
          ]
        },
        {
          "output_type": "display_data",
          "data": {
            "image/png": "[encoded data removed]",
            "text/plain": [
              "<Figure size 432x288 with 1 Axes>"
            ]
          },
          "metadata": {
            "needs_background": "light"
          }
        },
        {
          "output_type": "stream",
          "name": "stdout",
          "text": [
            "1.0203615427017212\n",
            "0.08679600805044174\n"
          ]
        }
      ]
    }
  ]
}